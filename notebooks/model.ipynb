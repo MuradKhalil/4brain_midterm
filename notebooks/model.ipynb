{
  "cells": [
    {
      "cell_type": "code",
      "execution_count": null,
      "metadata": {
        "id": "_qjs06hxJfT0"
      },
      "outputs": [],
      "source": [
        "import numpy as np\n",
        "import tensorflow as tf\n",
        "from tensorflow import keras\n",
        "from tensorflow.keras import models, layers, optimizers, callbacks, applications"
      ]
    },
    {
      "cell_type": "code",
      "execution_count": null,
      "metadata": {
        "id": "6hVKsuqxJfT1"
      },
      "outputs": [],
      "source": [
        "# get the image data\n",
        "(X_train, y_train), (X_test, y_test) = keras.datasets.cifar100.load_data()"
      ]
    },
    {
      "cell_type": "code",
      "execution_count": null,
      "metadata": {
        "colab": {
          "base_uri": "https://localhost:8080/"
        },
        "id": "ivwCsAQJQIef",
        "outputId": "946ba3a0-a0b9-46af-adf6-706f0bde8fca"
      },
      "outputs": [
        {
          "data": {
            "text/plain": [
              "array([[[255, 255, 255],\n",
              "        [255, 255, 255],\n",
              "        [255, 255, 255],\n",
              "        ...,\n",
              "        [195, 205, 193],\n",
              "        [212, 224, 204],\n",
              "        [182, 194, 167]],\n",
              "\n",
              "       [[255, 255, 255],\n",
              "        [254, 254, 254],\n",
              "        [254, 254, 254],\n",
              "        ...,\n",
              "        [170, 176, 150],\n",
              "        [161, 168, 130],\n",
              "        [146, 154, 113]],\n",
              "\n",
              "       [[255, 255, 255],\n",
              "        [254, 254, 254],\n",
              "        [255, 255, 255],\n",
              "        ...,\n",
              "        [189, 199, 169],\n",
              "        [166, 178, 130],\n",
              "        [121, 133,  87]],\n",
              "\n",
              "       ...,\n",
              "\n",
              "       [[148, 185,  79],\n",
              "        [142, 182,  57],\n",
              "        [140, 179,  60],\n",
              "        ...,\n",
              "        [ 30,  17,   1],\n",
              "        [ 65,  62,  15],\n",
              "        [ 76,  77,  20]],\n",
              "\n",
              "       [[122, 157,  66],\n",
              "        [120, 155,  58],\n",
              "        [126, 160,  71],\n",
              "        ...,\n",
              "        [ 22,  16,   3],\n",
              "        [ 97, 112,  56],\n",
              "        [141, 161,  87]],\n",
              "\n",
              "       [[ 87, 122,  41],\n",
              "        [ 88, 122,  39],\n",
              "        [101, 134,  56],\n",
              "        ...,\n",
              "        [ 34,  36,  10],\n",
              "        [105, 133,  59],\n",
              "        [138, 173,  79]]], dtype=uint8)"
            ]
          },
          "execution_count": 3,
          "metadata": {},
          "output_type": "execute_result"
        }
      ],
      "source": [
        "X_train[0]"
      ]
    },
    {
      "cell_type": "code",
      "execution_count": null,
      "metadata": {
        "colab": {
          "base_uri": "https://localhost:8080/"
        },
        "id": "EJ0gFRAAJfT2",
        "outputId": "ca988f65-80dc-4785-e5d6-2ee12412af49"
      },
      "outputs": [
        {
          "data": {
            "text/plain": [
              "array([[19],\n",
              "       [29],\n",
              "       [ 0],\n",
              "       [11],\n",
              "       [ 1],\n",
              "       [86],\n",
              "       [90],\n",
              "       [28],\n",
              "       [23],\n",
              "       [31]])"
            ]
          },
          "execution_count": 4,
          "metadata": {},
          "output_type": "execute_result"
        }
      ],
      "source": [
        "# look at what the outcome variable looks like\n",
        "y_train[:10]"
      ]
    },
    {
      "cell_type": "code",
      "execution_count": null,
      "metadata": {
        "colab": {
          "base_uri": "https://localhost:8080/"
        },
        "id": "RHWUMvQ6JfT3",
        "outputId": "e815596a-1cfc-4fa0-c468-8e91c84b05be"
      },
      "outputs": [
        {
          "data": {
            "text/plain": [
              "array([ 0,  1,  2,  3,  4,  5,  6,  7,  8,  9, 10, 11, 12, 13, 14, 15, 16,\n",
              "       17, 18, 19, 20, 21, 22, 23, 24, 25, 26, 27, 28, 29, 30, 31, 32, 33,\n",
              "       34, 35, 36, 37, 38, 39, 40, 41, 42, 43, 44, 45, 46, 47, 48, 49, 50,\n",
              "       51, 52, 53, 54, 55, 56, 57, 58, 59, 60, 61, 62, 63, 64, 65, 66, 67,\n",
              "       68, 69, 70, 71, 72, 73, 74, 75, 76, 77, 78, 79, 80, 81, 82, 83, 84,\n",
              "       85, 86, 87, 88, 89, 90, 91, 92, 93, 94, 95, 96, 97, 98, 99])"
            ]
          },
          "execution_count": 5,
          "metadata": {},
          "output_type": "execute_result"
        }
      ],
      "source": [
        "# check the number of classes\n",
        "np.unique(y_train)"
      ]
    },
    {
      "cell_type": "code",
      "execution_count": null,
      "metadata": {
        "colab": {
          "base_uri": "https://localhost:8080/"
        },
        "id": "ak5HLsnWJfT3",
        "outputId": "6e1f361a-7438-40f8-ef3a-d96f2c02c3d6"
      },
      "outputs": [
        {
          "name": "stdout",
          "output_type": "stream",
          "text": [
            "[[  0 500]\n",
            " [  1 500]\n",
            " [  2 500]\n",
            " [  3 500]\n",
            " [  4 500]\n",
            " [  5 500]\n",
            " [  6 500]\n",
            " [  7 500]\n",
            " [  8 500]\n",
            " [  9 500]\n",
            " [ 10 500]\n",
            " [ 11 500]\n",
            " [ 12 500]\n",
            " [ 13 500]\n",
            " [ 14 500]\n",
            " [ 15 500]\n",
            " [ 16 500]\n",
            " [ 17 500]\n",
            " [ 18 500]\n",
            " [ 19 500]\n",
            " [ 20 500]\n",
            " [ 21 500]\n",
            " [ 22 500]\n",
            " [ 23 500]\n",
            " [ 24 500]\n",
            " [ 25 500]\n",
            " [ 26 500]\n",
            " [ 27 500]\n",
            " [ 28 500]\n",
            " [ 29 500]\n",
            " [ 30 500]\n",
            " [ 31 500]\n",
            " [ 32 500]\n",
            " [ 33 500]\n",
            " [ 34 500]\n",
            " [ 35 500]\n",
            " [ 36 500]\n",
            " [ 37 500]\n",
            " [ 38 500]\n",
            " [ 39 500]\n",
            " [ 40 500]\n",
            " [ 41 500]\n",
            " [ 42 500]\n",
            " [ 43 500]\n",
            " [ 44 500]\n",
            " [ 45 500]\n",
            " [ 46 500]\n",
            " [ 47 500]\n",
            " [ 48 500]\n",
            " [ 49 500]\n",
            " [ 50 500]\n",
            " [ 51 500]\n",
            " [ 52 500]\n",
            " [ 53 500]\n",
            " [ 54 500]\n",
            " [ 55 500]\n",
            " [ 56 500]\n",
            " [ 57 500]\n",
            " [ 58 500]\n",
            " [ 59 500]\n",
            " [ 60 500]\n",
            " [ 61 500]\n",
            " [ 62 500]\n",
            " [ 63 500]\n",
            " [ 64 500]\n",
            " [ 65 500]\n",
            " [ 66 500]\n",
            " [ 67 500]\n",
            " [ 68 500]\n",
            " [ 69 500]\n",
            " [ 70 500]\n",
            " [ 71 500]\n",
            " [ 72 500]\n",
            " [ 73 500]\n",
            " [ 74 500]\n",
            " [ 75 500]\n",
            " [ 76 500]\n",
            " [ 77 500]\n",
            " [ 78 500]\n",
            " [ 79 500]\n",
            " [ 80 500]\n",
            " [ 81 500]\n",
            " [ 82 500]\n",
            " [ 83 500]\n",
            " [ 84 500]\n",
            " [ 85 500]\n",
            " [ 86 500]\n",
            " [ 87 500]\n",
            " [ 88 500]\n",
            " [ 89 500]\n",
            " [ 90 500]\n",
            " [ 91 500]\n",
            " [ 92 500]\n",
            " [ 93 500]\n",
            " [ 94 500]\n",
            " [ 95 500]\n",
            " [ 96 500]\n",
            " [ 97 500]\n",
            " [ 98 500]\n",
            " [ 99 500]]\n"
          ]
        }
      ],
      "source": [
        "# check the count of each class in the training set\n",
        "unique, counts = np.unique(y_train, return_counts=True)\n",
        "print(np.asarray((unique, counts)).T)"
      ]
    },
    {
      "cell_type": "code",
      "execution_count": null,
      "metadata": {
        "colab": {
          "base_uri": "https://localhost:8080/"
        },
        "id": "-vXsbP5GJfT4",
        "outputId": "ad882c4f-6e97-489e-cb44-24b83b5f89e0"
      },
      "outputs": [
        {
          "name": "stdout",
          "output_type": "stream",
          "text": [
            "[[  0 100]\n",
            " [  1 100]\n",
            " [  2 100]\n",
            " [  3 100]\n",
            " [  4 100]\n",
            " [  5 100]\n",
            " [  6 100]\n",
            " [  7 100]\n",
            " [  8 100]\n",
            " [  9 100]\n",
            " [ 10 100]\n",
            " [ 11 100]\n",
            " [ 12 100]\n",
            " [ 13 100]\n",
            " [ 14 100]\n",
            " [ 15 100]\n",
            " [ 16 100]\n",
            " [ 17 100]\n",
            " [ 18 100]\n",
            " [ 19 100]\n",
            " [ 20 100]\n",
            " [ 21 100]\n",
            " [ 22 100]\n",
            " [ 23 100]\n",
            " [ 24 100]\n",
            " [ 25 100]\n",
            " [ 26 100]\n",
            " [ 27 100]\n",
            " [ 28 100]\n",
            " [ 29 100]\n",
            " [ 30 100]\n",
            " [ 31 100]\n",
            " [ 32 100]\n",
            " [ 33 100]\n",
            " [ 34 100]\n",
            " [ 35 100]\n",
            " [ 36 100]\n",
            " [ 37 100]\n",
            " [ 38 100]\n",
            " [ 39 100]\n",
            " [ 40 100]\n",
            " [ 41 100]\n",
            " [ 42 100]\n",
            " [ 43 100]\n",
            " [ 44 100]\n",
            " [ 45 100]\n",
            " [ 46 100]\n",
            " [ 47 100]\n",
            " [ 48 100]\n",
            " [ 49 100]\n",
            " [ 50 100]\n",
            " [ 51 100]\n",
            " [ 52 100]\n",
            " [ 53 100]\n",
            " [ 54 100]\n",
            " [ 55 100]\n",
            " [ 56 100]\n",
            " [ 57 100]\n",
            " [ 58 100]\n",
            " [ 59 100]\n",
            " [ 60 100]\n",
            " [ 61 100]\n",
            " [ 62 100]\n",
            " [ 63 100]\n",
            " [ 64 100]\n",
            " [ 65 100]\n",
            " [ 66 100]\n",
            " [ 67 100]\n",
            " [ 68 100]\n",
            " [ 69 100]\n",
            " [ 70 100]\n",
            " [ 71 100]\n",
            " [ 72 100]\n",
            " [ 73 100]\n",
            " [ 74 100]\n",
            " [ 75 100]\n",
            " [ 76 100]\n",
            " [ 77 100]\n",
            " [ 78 100]\n",
            " [ 79 100]\n",
            " [ 80 100]\n",
            " [ 81 100]\n",
            " [ 82 100]\n",
            " [ 83 100]\n",
            " [ 84 100]\n",
            " [ 85 100]\n",
            " [ 86 100]\n",
            " [ 87 100]\n",
            " [ 88 100]\n",
            " [ 89 100]\n",
            " [ 90 100]\n",
            " [ 91 100]\n",
            " [ 92 100]\n",
            " [ 93 100]\n",
            " [ 94 100]\n",
            " [ 95 100]\n",
            " [ 96 100]\n",
            " [ 97 100]\n",
            " [ 98 100]\n",
            " [ 99 100]]\n"
          ]
        }
      ],
      "source": [
        "# check the count of each class in the testing set\n",
        "unique, counts = np.unique(y_test, return_counts=True)\n",
        "print(np.asarray((unique, counts)).T)"
      ]
    },
    {
      "cell_type": "code",
      "execution_count": null,
      "metadata": {
        "colab": {
          "base_uri": "https://localhost:8080/"
        },
        "id": "yp79LMV7JfT4",
        "outputId": "d0a46795-93ea-40dc-f3b9-38ebbfe86691"
      },
      "outputs": [
        {
          "name": "stdout",
          "output_type": "stream",
          "text": [
            "((50000, 32, 32, 3), (50000, 1))\n",
            "((10000, 32, 32, 3), (10000, 1))\n"
          ]
        }
      ],
      "source": [
        "# check the shape of data\n",
        "print((X_train.shape, y_train.shape))\n",
        "print((X_test.shape, y_test.shape))"
      ]
    },
    {
      "cell_type": "code",
      "execution_count": null,
      "metadata": {
        "colab": {
          "base_uri": "https://localhost:8080/"
        },
        "id": "n1ln4lOyJfT5",
        "outputId": "49db1209-b9de-4e0a-8e6d-a43f4d231c64"
      },
      "outputs": [
        {
          "data": {
            "text/plain": [
              "array([[0., 0., 0., ..., 0., 0., 0.],\n",
              "       [0., 0., 0., ..., 0., 0., 0.],\n",
              "       [1., 0., 0., ..., 0., 0., 0.],\n",
              "       ...,\n",
              "       [0., 0., 0., ..., 0., 0., 0.],\n",
              "       [0., 0., 0., ..., 0., 0., 0.],\n",
              "       [0., 0., 0., ..., 0., 0., 0.]], dtype=float32)"
            ]
          },
          "execution_count": 9,
          "metadata": {},
          "output_type": "execute_result"
        }
      ],
      "source": [
        "# one hot encode the outcome variable\n",
        "y_train = keras.utils.to_categorical(y_train, len(np.unique(y_train)))\n",
        "y_test = keras.utils.to_categorical(y_test, len(np.unique(y_test)))\n",
        "\n",
        "y_train"
      ]
    },
    {
      "cell_type": "code",
      "execution_count": null,
      "metadata": {
        "colab": {
          "base_uri": "https://localhost:8080/"
        },
        "id": "c90YtbWJJfT5",
        "outputId": "0a22b4f9-7445-4563-888c-631eabe4b6c4"
      },
      "outputs": [
        {
          "data": {
            "text/plain": [
              "(50000, 100)"
            ]
          },
          "execution_count": 10,
          "metadata": {},
          "output_type": "execute_result"
        }
      ],
      "source": [
        "# check the shape of one hot encoded outcome variable\n",
        "y_train.shape"
      ]
    },
    {
      "cell_type": "code",
      "execution_count": null,
      "metadata": {
        "id": "rmeQJ1IpQqdR"
      },
      "outputs": [],
      "source": [
        "X_train = applications.resnet50.preprocess_input(X_train)\n",
        "X_test = applications.resnet50.preprocess_input(X_test)"
      ]
    },
    {
      "cell_type": "code",
      "execution_count": null,
      "metadata": {
        "colab": {
          "base_uri": "https://localhost:8080/"
        },
        "id": "iV4Sqzt-JfT5",
        "outputId": "82fde8ef-41f6-4ddb-d175-4ef5a5e76e41"
      },
      "outputs": [
        {
          "data": {
            "text/plain": [
              "<KerasTensor: shape=(None, 32, 32, 3) dtype=float32 (created by layer 'input_1')>"
            ]
          },
          "execution_count": 12,
          "metadata": {},
          "output_type": "execute_result"
        }
      ],
      "source": [
        "input_tensor = keras.Input(shape=X_train.shape[1:len(X_train.shape)])\n",
        "input_tensor"
      ]
    },
    {
      "cell_type": "code",
      "execution_count": null,
      "metadata": {
        "colab": {
          "base_uri": "https://localhost:8080/"
        },
        "id": "MlMADh3oJfT6",
        "outputId": "f76485b7-eab2-4558-9144-8623834684d8"
      },
      "outputs": [
        {
          "data": {
            "text/plain": [
              "(32, 32, 3)"
            ]
          },
          "execution_count": 13,
          "metadata": {},
          "output_type": "execute_result"
        }
      ],
      "source": [
        "input_shape = X_train.shape[1:len(X_train.shape)]\n",
        "input_shape"
      ]
    },
    {
      "cell_type": "code",
      "execution_count": null,
      "metadata": {
        "id": "eRSH8l4xJfT6"
      },
      "outputs": [],
      "source": [
        "# load the resnet50 model without the output layer\n",
        "resnet50 = keras.applications.ResNet50(\n",
        "    include_top=False,\n",
        "    weights=\"imagenet\",\n",
        "    #input_tensor=input_tensor,\n",
        "    input_shape=(224, 224, 3),\n",
        "#    input_shape=input_shape,\n",
        ")"
      ]
    },
    {
      "cell_type": "code",
      "execution_count": null,
      "metadata": {
        "id": "cK1wziXaJfT7"
      },
      "outputs": [],
      "source": [
        "# freeze all the layers of the model\n",
        "#for layer in resnet50.layers[:143]:\n",
        "#  layer.trainable = False\n",
        "\n",
        "for layer in resnet50.layers:\n",
        "    if isinstance(layer, layers.BatchNormalization):\n",
        "        layer.trainable = True\n",
        "    else:\n",
        "        layer.trainable = False"
      ]
    },
    {
      "cell_type": "code",
      "execution_count": null,
      "metadata": {
        "colab": {
          "base_uri": "https://localhost:8080/"
        },
        "id": "cipCM_AAJfT8",
        "outputId": "4d6e07c6-e701-4025-a4b5-188eb5ac51ce"
      },
      "outputs": [
        {
          "data": {
            "text/plain": [
              "100"
            ]
          },
          "execution_count": 16,
          "metadata": {},
          "output_type": "execute_result"
        }
      ],
      "source": [
        "# get the number of classes to pass to the output layer\n",
        "n_classes = y_train.shape[1]\n",
        "n_classes"
      ]
    },
    {
      "cell_type": "code",
      "execution_count": null,
      "metadata": {
        "id": "88SgYrDHJfT8"
      },
      "outputs": [],
      "source": [
        "to_res = (224, 224)\n",
        "\n",
        "model = models.Sequential([\n",
        "    layers.Lambda(lambda image: tf.image.resize(image, to_res)),\n",
        "    resnet50,\n",
        "    layers.GlobalAveragePooling2D(),\n",
        "    layers.Dense(256, activation='relu'),\n",
        "    layers.Dropout(.25),\n",
        "    layers.BatchNormalization(),\n",
        "    layers.Dense(n_classes, activation='softmax')\n",
        "])"
      ]
    },
    {
      "cell_type": "code",
      "execution_count": null,
      "metadata": {
        "id": "Od7Xk7HeJfT9"
      },
      "outputs": [],
      "source": [
        "# compile the model\n",
        "model.compile(optimizer='rmsprop', loss='categorical_crossentropy', metrics = ['accuracy'])"
      ]
    },
    {
      "cell_type": "code",
      "execution_count": null,
      "metadata": {
        "colab": {
          "base_uri": "https://localhost:8080/"
        },
        "id": "9KgoWn9HJfT-",
        "outputId": "5456ae76-5f85-41cc-8027-d9ac242cb34e"
      },
      "outputs": [
        {
          "name": "stdout",
          "output_type": "stream",
          "text": [
            "Epoch 1/5\n",
            "782/782 [==============================] - 775s 962ms/step - loss: 1.5858 - accuracy: 0.5848 - val_loss: 0.9156 - val_accuracy: 0.7283\n",
            "Epoch 2/5\n",
            "782/782 [==============================] - 749s 958ms/step - loss: 0.8604 - accuracy: 0.7474 - val_loss: 0.7705 - val_accuracy: 0.7710\n",
            "Epoch 3/5\n",
            "782/782 [==============================] - 749s 959ms/step - loss: 0.6952 - accuracy: 0.7914 - val_loss: 0.7265 - val_accuracy: 0.7818\n",
            "Epoch 4/5\n",
            "782/782 [==============================] - 750s 959ms/step - loss: 0.5889 - accuracy: 0.8202 - val_loss: 0.7382 - val_accuracy: 0.7870\n",
            "Epoch 5/5\n",
            "782/782 [==============================] - 752s 961ms/step - loss: 0.5146 - accuracy: 0.8408 - val_loss: 0.7238 - val_accuracy: 0.7924\n"
          ]
        }
      ],
      "source": [
        "# train the model on the data\n",
        "history = model.fit(X_train, y_train, epochs=5, validation_data=[X_test, y_test], verbose=1, batch_size=64)"
      ]
    },
    {
      "cell_type": "code",
      "execution_count": null,
      "metadata": {
        "colab": {
          "base_uri": "https://localhost:8080/"
        },
        "id": "5PGE0EXmJfT-",
        "outputId": "0de50d4a-9c5b-4ec8-992f-bdca9620df54"
      },
      "outputs": [
        {
          "name": "stdout",
          "output_type": "stream",
          "text": [
            "Model: \"sequential\"\n",
            "_________________________________________________________________\n",
            " Layer (type)                Output Shape              Param #   \n",
            "=================================================================\n",
            " lambda (Lambda)             (None, 224, 224, 3)       0         \n",
            "                                                                 \n",
            " resnet50 (Functional)       (None, 7, 7, 2048)        23587712  \n",
            "                                                                 \n",
            " global_average_pooling2d (G  (None, 2048)             0         \n",
            " lobalAveragePooling2D)                                          \n",
            "                                                                 \n",
            " dense (Dense)               (None, 256)               524544    \n",
            "                                                                 \n",
            " dropout (Dropout)           (None, 256)               0         \n",
            "                                                                 \n",
            " batch_normalization (BatchN  (None, 256)              1024      \n",
            " ormalization)                                                   \n",
            "                                                                 \n",
            " dense_1 (Dense)             (None, 100)               25700     \n",
            "                                                                 \n",
            "=================================================================\n",
            "Total params: 24,138,980\n",
            "Trainable params: 603,876\n",
            "Non-trainable params: 23,535,104\n",
            "_________________________________________________________________\n"
          ]
        }
      ],
      "source": [
        "model.summary()"
      ]
    },
    {
      "cell_type": "code",
      "execution_count": null,
      "metadata": {
        "colab": {
          "base_uri": "https://localhost:8080/"
        },
        "id": "JFn_gvb5z_9I",
        "outputId": "26aec10f-33c1-4950-f3a1-460f992afa76"
      },
      "outputs": [
        {
          "name": "stdout",
          "output_type": "stream",
          "text": [
            "INFO:tensorflow:Assets written to: my_model1/assets\n"
          ]
        },
        {
          "name": "stderr",
          "output_type": "stream",
          "text": [
            "/usr/local/lib/python3.7/dist-packages/keras/engine/functional.py:1410: CustomMaskWarning: Custom mask layers require a config and must override get_config. When loading, the custom mask layer must be passed to the custom_objects argument.\n",
            "  layer_config = serialize_layer_fn(layer)\n",
            "/usr/local/lib/python3.7/dist-packages/keras/saving/saved_model/layer_serialization.py:112: CustomMaskWarning: Custom mask layers require a config and must override get_config. When loading, the custom mask layer must be passed to the custom_objects argument.\n",
            "  return generic_utils.serialize_keras_object(obj)\n"
          ]
        }
      ],
      "source": [
        "model.save('my_model1')"
      ]
    }
  ],
  "metadata": {
    "accelerator": "GPU",
    "colab": {
      "collapsed_sections": [],
      "name": "model.ipynb",
      "provenance": []
    },
    "interpreter": {
      "hash": "a9a048bf8960bc890193d23689a3f6b72b006a8513ae2bd237d38650c65f74e1"
    },
    "kernelspec": {
      "display_name": "Python 3.10.0 64-bit ('4brain_capstone': conda)",
      "language": "python",
      "name": "python3"
    },
    "language_info": {
      "codemirror_mode": {
        "name": "ipython",
        "version": 3
      },
      "file_extension": ".py",
      "mimetype": "text/x-python",
      "name": "python",
      "nbconvert_exporter": "python",
      "pygments_lexer": "ipython3",
      "version": "3.8.12"
    },
    "orig_nbformat": 4
  },
  "nbformat": 4,
  "nbformat_minor": 0
}
